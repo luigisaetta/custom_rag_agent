{
 "cells": [
  {
   "cell_type": "markdown",
   "id": "3ea71ed4-cdd2-40f4-a991-06cf3d404250",
   "metadata": {},
   "source": [
    "### Test the RAG agent in batch mode\n",
    "\n",
    "This notebook shows how to use the agent to answer to a lsit of questions in batch."
   ]
  },
  {
   "cell_type": "code",
   "execution_count": 1,
   "id": "440ea957-af53-4da8-b3c4-39b4c6b052d3",
   "metadata": {},
   "outputs": [],
   "source": [
    "from agent_state import State\n",
    "from rag_agent import create_workflow\n",
    "\n",
    "from config import LLM_MODEL_ID"
   ]
  },
  {
   "cell_type": "code",
   "execution_count": 2,
   "id": "d62914c3-142a-4588-9363-16d23312f451",
   "metadata": {},
   "outputs": [],
   "source": [
    "# agent configuration\n",
    "\n",
    "agent_config = {\n",
    "    \"configurable\": {\n",
    "        \"model_id\": LLM_MODEL_ID,\n",
    "        \"enable_reranker\": True,\n",
    "        \"enable_tracing\": False,\n",
    "        \"main_language\": \"fr\",\n",
    "        \"collection_name\": \"CNAF\",\n",
    "        \"thread_id\": \"1234\",\n",
    "    }\n",
    "}"
   ]
  },
  {
   "cell_type": "code",
   "execution_count": 3,
   "id": "37bb7f2f-5b0b-4233-a388-12cc38f5808f",
   "metadata": {},
   "outputs": [],
   "source": [
    "# create the agent workflow\n",
    "workflow = create_workflow()"
   ]
  },
  {
   "cell_type": "code",
   "execution_count": 12,
   "id": "225786a5-1298-44bb-93bb-bc0332e2bfe3",
   "metadata": {},
   "outputs": [],
   "source": [
    "#\n",
    "# The list of questions\n",
    "#\n",
    "questions = [\n",
    "    \"Quel est l'objectif principal de l'Allocation Journalière du Proche Aidant (AJPA) ?\",\n",
    "    \"Quelles sont les conditions de résidence requises pour l'aidant et la personne aidée ? \",\n",
    "    \"L'AJPA peut-elle être versée à un aidant rémunéré par la personne aidée, notamment par l'APA ou la PCH ?\",\n",
    "    \"Quelle est la durée maximale en jours d'indemnisation AJPA sur l'ensemble de la carrière professionnelle de l'aidant ?\",\n",
    "    \"L'AJPA est-elle cumulable avec l'indemnisation chômage sur l'intégralité d'un mois ?\",\n",
    "    \"Quelles catégories professionnelles peuvent bénéficier de l'AJPA sans être nécessairement en Congé de Proche Aidant (CPA)?\",\n",
    "]"
   ]
  },
  {
   "cell_type": "code",
   "execution_count": 14,
   "id": "afa2cd65-c09c-4aea-bf4f-6e2ccc7c4bed",
   "metadata": {},
   "outputs": [
    {
     "name": "stdout",
     "output_type": "stream",
     "text": [
      "\n",
      "Question 1: Quel est l'objectif principal de l'Allocation Journalière du Proche Aidant (AJPA) ?\n",
      "\n",
      "### Objectif de l'Allocation Journalière du Proche Aidant (AJPA)\n",
      "L'objectif principal de l'Allocation Journalière du Proche Aidant (AJPA) est de fournir une aide financière aux personnes qui doivent réduire ou cesser leur activité professionnelle pour s'occuper d'un proche en situation de dépendance. Cette allocation vise à compenser partiellement la perte de revenus subie par les aidants familiaux qui prennent soin d'un membre de leur famille ou d'un proche ayant besoin d'aide pour les actes de la vie quotidienne en raison d'un handicap, d'une maladie ou de la perte d'autonomie liée à l'âge.\n",
      "\n",
      "\n",
      "Question 2: Quelles sont les conditions de résidence requises pour l'aidant et la personne aidée ? \n",
      "\n",
      "### Conditions de résidence pour l'aidant et la personne aidée\n",
      "\n",
      "Les conditions de résidence pour l'aidant et la personne aidée peuvent varier en fonction du pays et des programmes spécifiques d'aide en place. Cependant, voici quelques conditions générales qui sont souvent requises :\n",
      "\n",
      "*   **Résidence dans le même pays** : Dans la plupart des cas, l'aidant et la personne aidée doivent résider dans le même pays pour être admissibles à l'aide.\n",
      "*   **Résidence dans la même région ou province** : Certaines aides peuvent nécessiter que l'aidant et la personne aidée résident dans la même région ou province.\n",
      "*   **Résidence à domicile** : Certaines aides peuvent être réservées aux personnes qui résident à domicile, plutôt qu'en établissement de soins.\n",
      "*   **Résidence légale** : L'aidant et la personne aidée doivent souvent avoir une résidence légale dans le pays ou la région pour être admissibles à l'aide.\n",
      "\n",
      "Il est important de noter que ces conditions peuvent varier en fonction des programmes spécifiques et des pays. Il est recommandé de consulter les autorités compétentes ou les organismes d'aide pour obtenir des informations précises et à jour sur les conditions de résidence requises.\n",
      "\n",
      "\n",
      "Question 3: L'AJPA peut-elle être versée à un aidant rémunéré par la personne aidée, notamment par l'APA ou la PCH ?\n",
      "\n",
      "### Réponse\n",
      "L'Allocation Journalière de Presence pour Aidant (AJPA) est une prestation versée aux aidants familiaux ou proches qui apportent une aide régulière à un proche en situation de dépendance. \n",
      "\n",
      "En ce qui concerne votre question, l'AJPA peut être versée à un aidant rémunéré par la personne aidée, notamment par l'Allocation Personnalisée d'Autonomie (APA) ou la Prestation de Compensation du Handicap (PCH), **à condition que l'aidant remplisse les conditions d'éligibilité à l'AJPA**. \n",
      "\n",
      "Cependant, il est important de noter que les règles spécifiques peuvent varier en fonction des situations individuelles et des réglementations en vigueur. Il est donc recommandé de consulter les services compétents ou un conseiller pour obtenir des informations précises et à jour sur les conditions d'éligibilité et les modalités de versement de l'AJPA.\n",
      "\n",
      "\n",
      "Question 4: Quelle est la durée maximale en jours d'indemnisation AJPA sur l'ensemble de la carrière professionnelle de l'aidant ?\n",
      "\n",
      "### Durée maximale d'indemnisation AJPA\n",
      "\n",
      "La durée maximale d'indemnisation pour l'Allocation Journalière de Presence pour Aidant (AJPA) sur l'ensemble de la carrière professionnelle de l'aidant est de **546 jours**. Cette allocation est destinée à aider les salariés qui doivent s'absenter de leur travail pour prendre soin d'un proche en situation de dépendance ou nécessitant une aide pour les actes de la vie quotidienne. \n",
      "\n",
      "Il est important de noter que cette durée peut varier en fonction des circonstances spécifiques et des évolutions législatives. Pour obtenir des informations à jour et précises, il est recommandé de consulter les ressources officielles du gouvernement ou de contacter un service d'information dédié.\n",
      "\n",
      "\n",
      "Question 5: L'AJPA est-elle cumulable avec l'indemnisation chômage sur l'intégralité d'un mois ?\n",
      "\n",
      "### Réponse\n",
      "L'AJPA (Allocation de Journalier Payé à l'Avance) est une aide financière destinée aux travailleurs intermittents du spectacle. Cependant, sans informations spécifiques sur les règles de cumul de l'AJPA avec l'indemnisation chômage, **je ne peux pas fournir une réponse précise**. Il est recommandé de consulter les services compétents ou un expert en droit du travail pour obtenir des informations à jour et personnalisées sur ce sujet.\n",
      "\n",
      "\n",
      "Question 6: Quelles catégories professionnelles peuvent bénéficier de l'AJPA sans être nécessairement en Congé de Proche Aidant (CPA)?\n",
      "\n",
      "### Catégories Professionnelles Éligibles à l'AJPA sans CPA\n",
      "\n",
      "L'Allocation Journalière de Proche Aidant (AJPA) est une prestation destinée à aider les proches aidants dans leur rôle. Même si le Congé de Proche Aidant (CPA) est souvent associé à cette allocation, certaines catégories professionnelles peuvent bénéficier de l'AJPA sans nécessairement être en CPA. Voici quelques-unes de ces catégories :\n",
      "\n",
      "*   **Travailleurs indépendants** : Les travailleurs indépendants qui doivent réduire leur activité pour s'occuper d'un proche peuvent être éligibles à l'AJPA, sans avoir besoin de prendre un CPA.\n",
      "*   **Agriculteurs** : Les agriculteurs qui doivent diminuer leur activité professionnelle pour aider un proche peuvent également bénéficier de l'AJPA.\n",
      "*   **Artisans et commerçants** : Les artisans et les commerçants qui doivent réduire leur activité pour s'occuper d'un proche peuvent être éligibles à l'AJPA.\n",
      "*   **Professionnels libéraux** : Les professionnels libéraux, tels que les médecins, les avocats, etc., qui doivent réduire leur activité pour aider un proche peuvent également bénéficier de l'AJPA.\n",
      "\n",
      "Il est important de noter que les conditions d'éligibilité à l'AJPA peuvent varier en fonction de la situation individuelle et des règles spécifiques en vigueur. Il est donc recommandé de consulter les services compétents pour obtenir des informations précises et à jour.\n",
      "\n"
     ]
    }
   ],
   "source": [
    "#\n",
    "# call in loop for each question\n",
    "# final answer is streamed\n",
    "#\n",
    "for i, question in enumerate(questions):\n",
    "    # input\n",
    "    print(\"\")\n",
    "    print(f\"Question {i+1}: {question}\")\n",
    "    print(\"\")\n",
    "\n",
    "    input_state = State(\n",
    "        user_request=question,\n",
    "        chat_history=[],\n",
    "        error=None,\n",
    "    )\n",
    "\n",
    "    result = workflow.invoke(input_state, config=agent_config)\n",
    "\n",
    "    # since the agent is streaming the generated answer\n",
    "    # result[\"final_answer\"] is a generator\n",
    "    for chunk in result[\"final_answer\"]:\n",
    "        print(chunk.content, end=\"\", flush=True)\n",
    "\n",
    "    # spacing for the next q/a\n",
    "    print(\"\")\n",
    "    print(\"\")"
   ]
  },
  {
   "cell_type": "code",
   "execution_count": null,
   "id": "ec566f5b-4109-407f-a20c-b1ac7b7053e1",
   "metadata": {},
   "outputs": [],
   "source": []
  }
 ],
 "metadata": {
  "kernelspec": {
   "display_name": "Python 3 (ipykernel)",
   "language": "python",
   "name": "python3"
  },
  "language_info": {
   "codemirror_mode": {
    "name": "ipython",
    "version": 3
   },
   "file_extension": ".py",
   "mimetype": "text/x-python",
   "name": "python",
   "nbconvert_exporter": "python",
   "pygments_lexer": "ipython3",
   "version": "3.11.0"
  }
 },
 "nbformat": 4,
 "nbformat_minor": 5
}
