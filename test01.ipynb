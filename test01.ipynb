{
 "cells": [
  {
   "cell_type": "code",
   "execution_count": 1,
   "id": "6eed44f9-0294-430b-8124-5dac1d5577b0",
   "metadata": {},
   "outputs": [
    {
     "ename": "ModuleNotFoundError",
     "evalue": "No module named 'agent_stat'",
     "output_type": "error",
     "traceback": [
      "\u001b[31m---------------------------------------------------------------------------\u001b[39m",
      "\u001b[31mModuleNotFoundError\u001b[39m                       Traceback (most recent call last)",
      "\u001b[36mCell\u001b[39m\u001b[36m \u001b[39m\u001b[32mIn[1]\u001b[39m\u001b[32m, line 3\u001b[39m\n\u001b[32m      1\u001b[39m \u001b[38;5;28;01mimport\u001b[39;00m\u001b[38;5;250m \u001b[39m\u001b[34;01muuid\u001b[39;00m\n\u001b[32m      2\u001b[39m \u001b[38;5;28;01mfrom\u001b[39;00m\u001b[38;5;250m \u001b[39m\u001b[34;01mIPython\u001b[39;00m\u001b[34;01m.\u001b[39;00m\u001b[34;01mdisplay\u001b[39;00m\u001b[38;5;250m \u001b[39m\u001b[38;5;28;01mimport\u001b[39;00m Image, display, Markdown\n\u001b[32m----> \u001b[39m\u001b[32m3\u001b[39m \u001b[38;5;28;01mfrom\u001b[39;00m\u001b[38;5;250m \u001b[39m\u001b[34;01magent_stat\u001b[39;00m\u001b[38;5;250m \u001b[39m\u001b[38;5;28;01mimport\u001b[39;00m State\n\u001b[32m      4\u001b[39m \u001b[38;5;28;01mfrom\u001b[39;00m\u001b[38;5;250m \u001b[39m\u001b[34;01mrag_agent\u001b[39;00m\u001b[38;5;250m \u001b[39m\u001b[38;5;28;01mimport\u001b[39;00m create_workflow\n\u001b[32m      6\u001b[39m \u001b[38;5;28;01mfrom\u001b[39;00m\u001b[38;5;250m \u001b[39m\u001b[34;01mutils\u001b[39;00m\u001b[38;5;250m \u001b[39m\u001b[38;5;28;01mimport\u001b[39;00m get_console_logger\n",
      "\u001b[31mModuleNotFoundError\u001b[39m: No module named 'agent_stat'"
     ]
    }
   ],
   "source": [
    "import uuid\n",
    "from IPython.display import Image, display, Markdown\n",
    "from agent_state import State\n",
    "from rag_agent import create_workflow\n",
    "\n",
    "from utils import get_console_logger"
   ]
  },
  {
   "cell_type": "code",
   "execution_count": null,
   "id": "6354c433-a570-415a-83e6-47ca5b14c531",
   "metadata": {},
   "outputs": [],
   "source": [
    "THREAD_ID = str(uuid.uuid4())\n",
    "AGENT_CONFIG = {\"configurable\": {\"thread_id\": THREAD_ID}}\n",
    "\n",
    "logger = get_console_logger()\n",
    "\n",
    "# we create the workflow here\n",
    "app = create_workflow()"
   ]
  },
  {
   "cell_type": "code",
   "execution_count": null,
   "id": "9592c119-3c54-44ad-bb18-88870a671d44",
   "metadata": {},
   "outputs": [],
   "source": [
    "try:\n",
    "    display(Image(app.get_graph().draw_mermaid_png()))\n",
    "except Exception:\n",
    "    pass"
   ]
  },
  {
   "cell_type": "code",
   "execution_count": null,
   "id": "8e30a864-be3d-4355-bee1-6ea6665b951b",
   "metadata": {},
   "outputs": [],
   "source": [
    "# user we set the user question\n",
    "\n",
    "input_state = State(\n",
    "    user_request=\"Who is Luigi Saetta. Give me a complete report with all the information available?\",\n",
    "    chat_history=[]\n",
    ")"
   ]
  },
  {
   "cell_type": "markdown",
   "id": "66c7150c-bee5-495a-a495-cacbf8d66f11",
   "metadata": {},
   "source": [
    "#### Test the Agent"
   ]
  },
  {
   "cell_type": "code",
   "execution_count": null,
   "id": "f51c0269-3d48-4b07-8a08-ebcfaeaae03e",
   "metadata": {},
   "outputs": [],
   "source": [
    "logger.info(\"Start...\")\n",
    "\n",
    "for event in app.stream(\n",
    "    input_state, config=AGENT_CONFIG):\n",
    "        for key, value in event.items():\n",
    "            logger.info(\"Executed: %s\", key)\n",
    "\n",
    "            if key == \"Answer\":\n",
    "                display(Markdown(value[\"final_answer\"]))\n",
    "                print(\"\")"
   ]
  },
  {
   "cell_type": "code",
   "execution_count": null,
   "id": "45460823-f37f-4e33-8e93-022b61a1fcdf",
   "metadata": {},
   "outputs": [],
   "source": []
  }
 ],
 "metadata": {
  "kernelspec": {
   "display_name": "Python 3 (ipykernel)",
   "language": "python",
   "name": "python3"
  },
  "language_info": {
   "codemirror_mode": {
    "name": "ipython",
    "version": 3
   },
   "file_extension": ".py",
   "mimetype": "text/x-python",
   "name": "python",
   "nbconvert_exporter": "python",
   "pygments_lexer": "ipython3",
   "version": "3.11.0"
  }
 },
 "nbformat": 4,
 "nbformat_minor": 5
}
