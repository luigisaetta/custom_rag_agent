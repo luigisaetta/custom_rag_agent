{
 "cells": [
  {
   "cell_type": "code",
   "execution_count": 1,
   "id": "6eed44f9-0294-430b-8124-5dac1d5577b0",
   "metadata": {},
   "outputs": [],
   "source": [
    "import uuid\n",
    "from IPython.display import Image, display, Markdown\n",
    "from agent_state import State\n",
    "from rag_agent import create_workflow\n",
    "\n",
    "from utils import get_console_logger"
   ]
  },
  {
   "cell_type": "code",
   "execution_count": 2,
   "id": "6354c433-a570-415a-83e6-47ca5b14c531",
   "metadata": {},
   "outputs": [],
   "source": [
    "THREAD_ID = str(uuid.uuid4())\n",
    "AGENT_CONFIG = {\"configurable\": {\"thread_id\": THREAD_ID}}\n",
    "\n",
    "logger = get_console_logger()\n",
    "\n",
    "# we create the workflow here\n",
    "app = create_workflow()"
   ]
  },
  {
   "cell_type": "code",
   "execution_count": 3,
   "id": "9592c119-3c54-44ad-bb18-88870a671d44",
   "metadata": {},
   "outputs": [
    {
     "data": {
      "image/png": "[encoded data removed]",
      "text/plain": [
       "<IPython.core.display.Image object>"
      ]
     },
     "metadata": {},
     "output_type": "display_data"
    }
   ],
   "source": [
    "try:\n",
    "    display(Image(app.get_graph().draw_mermaid_png()))\n",
    "except Exception:\n",
    "    pass"
   ]
  },
  {
   "cell_type": "code",
   "execution_count": 4,
   "id": "8e30a864-be3d-4355-bee1-6ea6665b951b",
   "metadata": {},
   "outputs": [],
   "source": [
    "# user we set the user question\n",
    "\n",
    "input_state = State(\n",
    "    user_request=\"Who is Luigi Saetta. Give me a complete report with all the information available?\",\n",
    "    chat_history=[],\n",
    ")"
   ]
  },
  {
   "cell_type": "markdown",
   "id": "66c7150c-bee5-495a-a495-cacbf8d66f11",
   "metadata": {},
   "source": [
    "#### Test the Agent"
   ]
  },
  {
   "cell_type": "code",
   "execution_count": 5,
   "id": "f51c0269-3d48-4b07-8a08-ebcfaeaae03e",
   "metadata": {},
   "outputs": [
    {
     "name": "stderr",
     "output_type": "stream",
     "text": [
      "2025-03-16 19:22:17,620 - Start...\n",
      "2025-03-16 19:22:17,632 - Executed: ReformulateQuestion\n",
      "2025-03-16 19:22:19,359 - Executed: Search\n",
      "2025-03-16 19:22:19,473 - Executed: Rerank\n",
      "2025-03-16 19:22:32,171 - Executed: Answer\n"
     ]
    },
    {
     "data": {
      "text/markdown": [
       "### Introduction to Luigi Saetta\n",
       "Luigi Saetta is a professional with a strong background in Physics and over three decades of experience in the IT sector. He specializes in various cutting-edge technologies, including Data Science, Machine Learning, Artificial Intelligence, Generative AI, Oracle DataLakehouse solutions, and Cloud architectures.\n",
       "\n",
       "### Professional Profile\n",
       "Luigi Saetta has demonstrated the ability to present to both C-level executives and technical teams. He has led technical teams in highly complex projects, developing innovative solutions for major companies and public entities. Notably, he is recognized as a leader in South Europe in the AI field, with a specific focus on Large Language Models (LLM), Generative AI, and RAG solutions.\n",
       "\n",
       "### Work Experience\n",
       "Luigi Saetta's work experience includes several roles at Oracle:\n",
       "\n",
       "* **EMEA Data Science, ML & AI Team Member (2022 – Present)**: In this role, he serves as the key contact for the Italian and Southern European markets in Data Science, ML, and AI. His responsibilities include the adoption of AI technologies, sales support, and competitive activities management. He has successfully followed the proposition and adoption for more than 30 customers across all markets and industries. Additionally, he is the main presenter of Oracle AI solutions at major public events and has over 2000 contacts on LinkedIn.\n",
       "* **Pre-sales Cloud Architect (2017 - 2022)**: As a Cloud Architect, Luigi Saetta supported customers in adopting Oracle Cloud technologies. One of his notable achievements was being one of the creators of the Oracle Proxima Smart City demo.\n",
       "* **Enterprise Architect (2015 - 2017)**: In this role, he led the definition of solutions for migrating Oracle DB to Oracle Exadata Database Machine for many customers.\n",
       "\n",
       "### Achievements and Projects\n",
       "Some of Luigi Saetta's main achievements include:\n",
       "* ICCREA (Second Generation Anti-Money Laundering)\n",
       "* Sisal (Data Science CoE setup)\n",
       "* ENAV (ASR ATC1 Project, Airplane Tracking in Video)\n",
       "* Bitron (Smart Incoming)\n",
       "\n",
       "### Conferences and Presentations\n",
       "Luigi Saetta has presented at more than 50 internal or public events. Some of his latest and upcoming presentations include:\n",
       "* Oracle Technology Forum Rome, June 2023\n",
       "* Oracle Technology Forum Milan, June 2023\n",
       "* Data&AI Forum Oracle (Rome), January 2024\n",
       "* Cloud World (Milan), March 2024\n",
       "* AI Week (Rimini), April 2024\n",
       "\n",
       "### Languages\n",
       "Luigi Saetta is fluent in:\n",
       "* Italian (native)\n",
       "* English (fluent)\n",
       "\n",
       "### Personal Data Consent\n",
       "He has given consent for his personal data to be processed for the purposes of the recruitment process under the European Union's General Data Protection Regulation (GDPR) and any other applicable laws.\n",
       "\n",
       "### Contact Information\n",
       "To get in touch with Luigi Saetta, you can use the following contact details:\n",
       "* Email: [luigi.saetta@gmail.com](mailto:luigi.saetta@gmail.com)\n",
       "* Phone: +39 335 5979545\n",
       "* LinkedIn: [www.linkedin.com/in/luigi-saetta](http://www.linkedin.com/in/luigi-saetta)"
      ],
      "text/plain": [
       "<IPython.core.display.Markdown object>"
      ]
     },
     "metadata": {},
     "output_type": "display_data"
    },
    {
     "name": "stdout",
     "output_type": "stream",
     "text": [
      "\n"
     ]
    }
   ],
   "source": [
    "logger.info(\"Start...\")\n",
    "\n",
    "for event in app.stream(input_state, config=AGENT_CONFIG):\n",
    "    for key, value in event.items():\n",
    "        logger.info(\"Executed: %s\", key)\n",
    "\n",
    "        if key == \"Answer\":\n",
    "            display(Markdown(value[\"final_answer\"]))\n",
    "            print(\"\")"
   ]
  },
  {
   "cell_type": "code",
   "execution_count": null,
   "id": "45460823-f37f-4e33-8e93-022b61a1fcdf",
   "metadata": {},
   "outputs": [],
   "source": []
  }
 ],
 "metadata": {
  "kernelspec": {
   "display_name": "Python 3 (ipykernel)",
   "language": "python",
   "name": "python3"
  },
  "language_info": {
   "codemirror_mode": {
    "name": "ipython",
    "version": 3
   },
   "file_extension": ".py",
   "mimetype": "text/x-python",
   "name": "python",
   "nbconvert_exporter": "python",
   "pygments_lexer": "ipython3",
   "version": "3.11.0"
  }
 },
 "nbformat": 4,
 "nbformat_minor": 5
}
